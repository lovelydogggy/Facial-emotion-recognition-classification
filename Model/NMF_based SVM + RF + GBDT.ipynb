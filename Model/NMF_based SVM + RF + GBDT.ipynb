{
 "cells": [
  {
   "cell_type": "code",
   "execution_count": 1,
   "metadata": {
    "scrolled": true
   },
   "outputs": [
    {
     "name": "stderr",
     "output_type": "stream",
     "text": [
      "/Users/hechongyu1995/anaconda3/lib/python3.6/site-packages/h5py/__init__.py:36: FutureWarning: Conversion of the second argument of issubdtype from `float` to `np.floating` is deprecated. In future, it will be treated as `np.float64 == np.dtype(float).type`.\n",
      "  from ._conv import register_converters as _register_converters\n"
     ]
    },
    {
     "name": "stdout",
     "output_type": "stream",
     "text": [
      "(2000, 3004) (500, 3004)\n"
     ]
    }
   ],
   "source": [
    "#from data_preprocess import FiducialDataProcess\n",
    "import ipdb\n",
    "import numpy as np\n",
    "import tensorflow as tf\n",
    "from tensorflow import keras\n",
    "import matplotlib.pyplot as plt\n",
    "import pandas as pd\n",
    "from sklearn.datasets import load_breast_cancer\n",
    "from sklearn.model_selection import train_test_split\n",
    "from sklearn.decomposition import NMF\n",
    "import warnings\n",
    "\n",
    "class NMF_Data(object):\n",
    "\tdef __init__(self, dat_x, dat_y):\n",
    "\t\tself.dat_x = dat_x\n",
    "\t\tself.dat_y = dat_y\n",
    "\t\tself.nmf_features = []\n",
    "\n",
    "\tdef create_nmf(self, test_size=500):\n",
    "\t\tx_train, x_test, y_train, y_test = train_test_split(self.dat_x, self.dat_y, random_state=1, test_size = test_size)\n",
    "\t\tprint(x_train.shape, x_test.shape)\n",
    "\t\t\n",
    "\t\tnmf = NMF(n_components=100, random_state=0)\n",
    "\t\tnmf.fit(x_train)\n",
    "\n",
    "\t\tx_train_nmf = nmf.transform(x_train)\n",
    "\t\tx_test_nmf = nmf.transform(x_test)\n",
    "\n",
    "\t\tself.nmf_features.append(x_train_nmf)\n",
    "\t\tself.nmf_features.append(y_train)\n",
    "\t\tself.nmf_features.append(x_test_nmf)\n",
    "\t\tself.nmf_features.append(y_test)\n",
    "\n",
    "\tdef get_nmf_features(self):\n",
    "\t\treturn self.nmf_features\n",
    "\n",
    "\tdef save_nmf(self, filename):\n",
    "\t\tself.create_nmf()\n",
    "\t\tnp.save(filename, self.nmf_features)\n",
    "\n",
    "\n",
    "if __name__ == '__main__':\n",
    "    my_data = np.genfromtxt('dense_data_type_and_emot.csv', delimiter=',')\n",
    "    np.random.seed(0)\n",
    "    np.random.shuffle(my_data)\t\n",
    "    features_init = my_data[:,1:]\n",
    "    features = features_init / features_init.max(axis=0)\n",
    "    labels = my_data[:,0:2] \n",
    "    nmf_total = NMF_Data(features, labels)\n",
    "    filename = 'nmf_features_type_emot.npy'\n",
    "    nmf_total.save_nmf(filename)\n",
    "\n",
    "\n",
    "\t# dat = pd.read_csv(\"nmf_faducial.csv\", index_col=0)\n",
    "\t# dat_x = dat.loc[:,'feature1':'feature6006']\n",
    "\t# dat_y = dat.loc[:, 'emotion_idx']\n",
    "\t# nmf_total = NMF_Data(dat_x, dat_y)\n",
    "\t# nmf_total.save_nmf()"
   ]
  },
  {
   "cell_type": "code",
   "execution_count": 2,
   "metadata": {},
   "outputs": [
    {
     "name": "stdout",
     "output_type": "stream",
     "text": [
      "(2000, 3004) (500, 3004)\n"
     ]
    }
   ],
   "source": [
    "nmf_create = NMF_Data.create_nmf(nmf_total)\n",
    "data_get = NMF_Data.get_nmf_features(nmf_total)"
   ]
  },
  {
   "cell_type": "code",
   "execution_count": 3,
   "metadata": {},
   "outputs": [],
   "source": [
    "x_train, y_train, x_test, y_test = data_get[0], data_get[1], data_get[2], data_get[3]"
   ]
  },
  {
   "cell_type": "markdown",
   "metadata": {},
   "source": [
    "### SVM for 0/1"
   ]
  },
  {
   "cell_type": "code",
   "execution_count": 4,
   "metadata": {},
   "outputs": [
    {
     "name": "stderr",
     "output_type": "stream",
     "text": [
      "/Users/hechongyu1995/anaconda3/lib/python3.6/site-packages/sklearn/cross_validation.py:41: DeprecationWarning: This module was deprecated in version 0.18 in favor of the model_selection module into which all the refactored classes and functions are moved. Also note that the interface of the new CV iterators are different from that of this module. This module will be removed in 0.20.\n",
      "  \"This module will be removed in 0.20.\", DeprecationWarning)\n",
      "/Users/hechongyu1995/anaconda3/lib/python3.6/site-packages/sklearn/grid_search.py:42: DeprecationWarning: This module was deprecated in version 0.18 in favor of the model_selection module into which all the refactored classes and functions are moved. This module will be removed in 0.20.\n",
      "  DeprecationWarning)\n"
     ]
    },
    {
     "name": "stdout",
     "output_type": "stream",
     "text": [
      "Fitting 5 folds for each of 32 candidates, totalling 160 fits\n"
     ]
    },
    {
     "name": "stderr",
     "output_type": "stream",
     "text": [
      "[Parallel(n_jobs=1)]: Done 160 out of 160 | elapsed:   41.9s finished\n"
     ]
    },
    {
     "data": {
      "text/plain": [
       "({'C': 500, 'kernel': 'linear'}, 0.9885)"
      ]
     },
     "execution_count": 4,
     "metadata": {},
     "output_type": "execute_result"
    }
   ],
   "source": [
    "from sklearn.grid_search import GridSearchCV\n",
    "from sklearn.svm import SVC\n",
    "from sklearn.model_selection import cross_val_score\n",
    "\n",
    "warnings.filterwarnings('ignore')\n",
    "svm_param_grid = {'C':[0.001,0.01,0.1,1,10,50,100,500],\n",
    "                   'kernel':['rbf', 'linear', 'poly', 'sigmoid']}\n",
    "\n",
    "svm_clf = SVC(**svm_param_grid)\n",
    "\n",
    "grid = GridSearchCV(svm_clf,\n",
    "                    param_grid=svm_param_grid,\n",
    "                    cv=5,\n",
    "                    verbose = 1,\n",
    "                    scoring='accuracy')\n",
    "\n",
    "grid.fit(x_train, y_train[:,0])\n",
    "grid.best_params_, grid.best_score_"
   ]
  },
  {
   "cell_type": "code",
   "execution_count": 5,
   "metadata": {},
   "outputs": [
    {
     "data": {
      "text/plain": [
       "0.988"
      ]
     },
     "execution_count": 5,
     "metadata": {},
     "output_type": "execute_result"
    }
   ],
   "source": [
    "svm_best = SVC(**grid.best_params_)\n",
    "svm_best.fit(x_train,y_train[:,0])\n",
    "score_svm = svm_best.score(x_test,y_test[:,0])\n",
    "score_svm"
   ]
  },
  {
   "cell_type": "code",
   "execution_count": 6,
   "metadata": {},
   "outputs": [
    {
     "name": "stdout",
     "output_type": "stream",
     "text": [
      "overall accuracy is 0.988\n"
     ]
    }
   ],
   "source": [
    "print ('overall accuracy is ' + str(score_svm))"
   ]
  },
  {
   "cell_type": "markdown",
   "metadata": {},
   "source": [
    "### SVM for multi emotion classification"
   ]
  },
  {
   "cell_type": "code",
   "execution_count": 7,
   "metadata": {},
   "outputs": [
    {
     "name": "stdout",
     "output_type": "stream",
     "text": [
      "Fitting 5 folds for each of 64 candidates, totalling 320 fits\n"
     ]
    },
    {
     "name": "stderr",
     "output_type": "stream",
     "text": [
      "[Parallel(n_jobs=1)]: Done 320 out of 320 | elapsed:  3.1min finished\n"
     ]
    },
    {
     "data": {
      "text/plain": [
       "({'C': 100, 'decision_function_shape': 'ovr', 'kernel': 'linear'}, 0.4825)"
      ]
     },
     "execution_count": 7,
     "metadata": {},
     "output_type": "execute_result"
    }
   ],
   "source": [
    "svm_param_grid = {'C':[0.001,0.01,0.1,1,10,50,100,500],\n",
    "                   'kernel':['rbf', 'linear', 'poly', 'sigmoid'],\n",
    "                   'decision_function_shape': ['ovr', 'ovo']}\n",
    "\n",
    "svm_clf_multi = SVC(**svm_param_grid)\n",
    "\n",
    "grid = GridSearchCV(svm_clf_multi,\n",
    "                    param_grid=svm_param_grid,\n",
    "                    cv=5,\n",
    "                    verbose = 1,\n",
    "                    scoring='accuracy')\n",
    "\n",
    "grid.fit(x_train, y_train[:,1])\n",
    "grid.best_params_, grid.best_score_"
   ]
  },
  {
   "cell_type": "code",
   "execution_count": 8,
   "metadata": {},
   "outputs": [
    {
     "data": {
      "text/plain": [
       "0.474"
      ]
     },
     "execution_count": 8,
     "metadata": {},
     "output_type": "execute_result"
    }
   ],
   "source": [
    "svm_best = SVC(**grid.best_params_)\n",
    "svm_best.fit(x_train,y_train[:,1])\n",
    "score_svm = svm_best.score(x_test,y_test[:,1])\n",
    "score_svm"
   ]
  },
  {
   "cell_type": "code",
   "execution_count": 9,
   "metadata": {},
   "outputs": [
    {
     "name": "stdout",
     "output_type": "stream",
     "text": [
      "Fitting 5 folds for each of 64 candidates, totalling 320 fits\n"
     ]
    },
    {
     "name": "stderr",
     "output_type": "stream",
     "text": [
      "[Parallel(n_jobs=1)]: Done 320 out of 320 | elapsed:   16.5s finished\n"
     ]
    },
    {
     "data": {
      "text/plain": [
       "({'C': 500, 'decision_function_shape': 'ovr', 'kernel': 'rbf'},\n",
       " 0.7370078740157481)"
      ]
     },
     "execution_count": 9,
     "metadata": {},
     "output_type": "execute_result"
    }
   ],
   "source": [
    "y_train_simple, y_test_simple = y_train[:,0], y_test[:,0]\n",
    "x_train_0 = x_train[np.where(y_train_simple==0)]\n",
    "y_train_compund_0 = y_train[:,1][np.where(y_train_simple==0)]\n",
    "\n",
    "svm_param_grid = {'C':[0.001,0.01,0.1,1,10,50,100,500],\n",
    "                   'kernel':['rbf', 'linear', 'poly', 'sigmoid'],\n",
    "                   'decision_function_shape': ['ovr', 'ovo']}\n",
    "\n",
    "svm_clf_compund_0 = SVC(**svm_param_grid)\n",
    "\n",
    "grid = GridSearchCV(svm_clf_compund_0,\n",
    "                    param_grid=svm_param_grid,\n",
    "                    cv=5,\n",
    "                    verbose = 1,\n",
    "                    scoring='accuracy')\n",
    "\n",
    "grid.fit(x_train_0, y_train_compund_0)\n",
    "grid.best_params_, grid.best_score_"
   ]
  },
  {
   "cell_type": "code",
   "execution_count": 10,
   "metadata": {},
   "outputs": [
    {
     "data": {
      "text/plain": [
       "0.7543859649122807"
      ]
     },
     "execution_count": 10,
     "metadata": {},
     "output_type": "execute_result"
    }
   ],
   "source": [
    "x_test_0 = x_test[np.where(y_test_simple==0)]\n",
    "y_test_compund_0 = y_test[:,1][np.where(y_test_simple==0)]\n",
    "\n",
    "svm_best_compound_0 = SVC(**grid.best_params_)\n",
    "svm_best_compound_0.fit(x_train_0, y_train_compund_0)\n",
    "score_svm_compound_0 = svm_best_compound_0.score(x_test_0, y_test_compund_0)\n",
    "score_svm_compound_0"
   ]
  },
  {
   "cell_type": "code",
   "execution_count": 11,
   "metadata": {},
   "outputs": [
    {
     "name": "stdout",
     "output_type": "stream",
     "text": [
      "Fitting 5 folds for each of 64 candidates, totalling 320 fits\n"
     ]
    },
    {
     "name": "stderr",
     "output_type": "stream",
     "text": [
      "[Parallel(n_jobs=1)]: Done 320 out of 320 | elapsed:  1.4min finished\n"
     ]
    },
    {
     "data": {
      "text/plain": [
       "({'C': 50, 'decision_function_shape': 'ovr', 'kernel': 'linear'},\n",
       " 0.49157509157509155)"
      ]
     },
     "execution_count": 11,
     "metadata": {},
     "output_type": "execute_result"
    }
   ],
   "source": [
    "y_train_simple, y_test_simple = y_train[:,0], y_test[:,0]\n",
    "x_train_1 = x_train[np.where(y_train_simple==1)]\n",
    "y_train_compund_1 = y_train[:,1][np.where(y_train_simple==1)]\n",
    "\n",
    "svm_param_grid = {'C':[0.001,0.01,0.1,1,10,50,100,500],\n",
    "                   'kernel':['rbf', 'linear', 'poly', 'sigmoid'],\n",
    "                   'decision_function_shape': ['ovr', 'ovo']}\n",
    "\n",
    "svm_clf_compund_1 = SVC(**svm_param_grid)\n",
    "\n",
    "grid = GridSearchCV(svm_clf_compund_1,\n",
    "                    param_grid=svm_param_grid,\n",
    "                    cv=5,\n",
    "                    verbose = 1,\n",
    "                    scoring='accuracy')\n",
    "\n",
    "grid.fit(x_train_1, y_train_compund_1)\n",
    "grid.best_params_, grid.best_score_"
   ]
  },
  {
   "cell_type": "code",
   "execution_count": 12,
   "metadata": {},
   "outputs": [
    {
     "data": {
      "text/plain": [
       "0.46200607902735563"
      ]
     },
     "execution_count": 12,
     "metadata": {},
     "output_type": "execute_result"
    }
   ],
   "source": [
    "x_test_1 = x_test[np.where(y_test_simple==1)]\n",
    "y_test_compund_1 = y_test[:,1][np.where(y_test_simple==1)]\n",
    "\n",
    "svm_best_compound_1 = SVC(**grid.best_params_)\n",
    "svm_best_compound_1.fit(x_train_1, y_train_compund_1)\n",
    "score_svm_compound_1 = svm_best_compound_1.score(x_test_1, y_test_compund_1)\n",
    "score_svm_compound_1"
   ]
  },
  {
   "cell_type": "code",
   "execution_count": 13,
   "metadata": {},
   "outputs": [
    {
     "name": "stdout",
     "output_type": "stream",
     "text": [
      "overall SVM accuracy is 0.562\n"
     ]
    }
   ],
   "source": [
    "overall_acc = (len(y_test_compund_0)*score_svm_compound_0+len(y_test_compund_1)*score_svm_compound_1)/len(y_test)\n",
    "print ('overall SVM accuracy is ' + str(overall_acc))"
   ]
  },
  {
   "cell_type": "markdown",
   "metadata": {},
   "source": [
    "### RF for multi emotion classification"
   ]
  },
  {
   "cell_type": "code",
   "execution_count": 14,
   "metadata": {},
   "outputs": [
    {
     "name": "stdout",
     "output_type": "stream",
     "text": [
      "Fitting 5 folds for each of 256 candidates, totalling 1280 fits\n"
     ]
    },
    {
     "name": "stderr",
     "output_type": "stream",
     "text": [
      "[Parallel(n_jobs=1)]: Done 1280 out of 1280 | elapsed:  5.0min finished\n"
     ]
    },
    {
     "data": {
      "text/plain": [
       "({'max_depth': 10,\n",
       "  'max_features': 20,\n",
       "  'min_samples_split': 4,\n",
       "  'n_estimators': 100},\n",
       " 0.8582677165354331)"
      ]
     },
     "execution_count": 14,
     "metadata": {},
     "output_type": "execute_result"
    }
   ],
   "source": [
    "from sklearn.ensemble import RandomForestClassifier\n",
    "y_train_simple, y_test_simple = y_train[:,0], y_test[:,0]\n",
    "x_train_0 = x_train[np.where(y_train_simple==0)]\n",
    "y_train_compund_0 = y_train[:,1][np.where(y_train_simple==0)]\n",
    "\n",
    "rf_param_grid = {'n_estimators':[20,50,100,200],\n",
    "                 'max_depth':[2,5,10,15],\n",
    "                 'min_samples_split':np.arange(2,10,2),\n",
    "                 'max_features':np.arange(5,25,5),\n",
    "                 }\n",
    "\n",
    "rf_clf_compund_0 = RandomForestClassifier(**rf_param_grid)\n",
    "\n",
    "rf_grid = GridSearchCV(rf_clf_compund_0,\n",
    "                    param_grid=rf_param_grid,\n",
    "                    cv=5,\n",
    "                    verbose=1,\n",
    "                    scoring='accuracy')\n",
    "\n",
    "rf_grid.fit(x_train_0, y_train_compund_0)\n",
    "rf_grid.best_params_, rf_grid.best_score_"
   ]
  },
  {
   "cell_type": "code",
   "execution_count": 15,
   "metadata": {},
   "outputs": [
    {
     "data": {
      "text/plain": [
       "0.8538011695906432"
      ]
     },
     "execution_count": 15,
     "metadata": {},
     "output_type": "execute_result"
    }
   ],
   "source": [
    "x_test_0 = x_test[np.where(y_test_simple==0)]\n",
    "y_test_compund_0 = y_test[:,1][np.where(y_test_simple==0)]\n",
    "\n",
    "rf_best_compound_0 = RandomForestClassifier(**rf_grid.best_params_)\n",
    "rf_best_compound_0.fit(x_train_0, y_train_compund_0)\n",
    "score_rf_compound_0 = rf_best_compound_0.score(x_test_0, y_test_compund_0)\n",
    "score_rf_compound_0"
   ]
  },
  {
   "cell_type": "code",
   "execution_count": 16,
   "metadata": {},
   "outputs": [
    {
     "name": "stdout",
     "output_type": "stream",
     "text": [
      "Fitting 5 folds for each of 256 candidates, totalling 1280 fits\n"
     ]
    },
    {
     "name": "stderr",
     "output_type": "stream",
     "text": [
      "[Parallel(n_jobs=1)]: Done 1280 out of 1280 | elapsed: 11.3min finished\n"
     ]
    },
    {
     "data": {
      "text/plain": [
       "({'max_depth': 15,\n",
       "  'max_features': 20,\n",
       "  'min_samples_split': 2,\n",
       "  'n_estimators': 200},\n",
       " 0.6043956043956044)"
      ]
     },
     "execution_count": 16,
     "metadata": {},
     "output_type": "execute_result"
    }
   ],
   "source": [
    "y_train_simple, y_test_simple = y_train[:,0], y_test[:,0]\n",
    "x_train_1 = x_train[np.where(y_train_simple==1)]\n",
    "y_train_compund_1 = y_train[:,1][np.where(y_train_simple==1)]\n",
    "\n",
    "rf_param_grid_1 = {'n_estimators':[20,50,100,200],\n",
    "                 'max_depth':[2,5,10,15],\n",
    "                 'min_samples_split':np.arange(2,10,2),\n",
    "                 'max_features':np.arange(5,25,5),\n",
    "                 }\n",
    "\n",
    "rf_clf_compund_1 = RandomForestClassifier(**rf_param_grid_1)\n",
    "\n",
    "rf_grid_1 = GridSearchCV(rf_clf_compund_1,\n",
    "                    param_grid=rf_param_grid_1,\n",
    "                    cv=5,\n",
    "                    verbose=1,\n",
    "                    scoring='accuracy')\n",
    "\n",
    "rf_grid_1.fit(x_train_1, y_train_compund_1)\n",
    "rf_grid_1.best_params_, rf_grid_1.best_score_"
   ]
  },
  {
   "cell_type": "code",
   "execution_count": 17,
   "metadata": {},
   "outputs": [
    {
     "data": {
      "text/plain": [
       "0.5775075987841946"
      ]
     },
     "execution_count": 17,
     "metadata": {},
     "output_type": "execute_result"
    }
   ],
   "source": [
    "x_test_1 = x_test[np.where(y_test_simple==1)]\n",
    "y_test_compund_1 = y_test[:,1][np.where(y_test_simple==1)]\n",
    "\n",
    "rf_best_compound_1 = RandomForestClassifier(**rf_grid_1.best_params_)\n",
    "rf_best_compound_1.fit(x_train_1, y_train_compund_1)\n",
    "score_rf_compound_1 = rf_best_compound_1.score(x_test_1, y_test_compund_1)\n",
    "score_rf_compound_1"
   ]
  },
  {
   "cell_type": "code",
   "execution_count": 18,
   "metadata": {},
   "outputs": [
    {
     "name": "stdout",
     "output_type": "stream",
     "text": [
      "overall RF accuracy is 0.672\n"
     ]
    }
   ],
   "source": [
    "overall_rf_acc = (len(y_test_compund_0)*score_rf_compound_0+len(y_test_compund_1)*score_rf_compound_1)/len(y_test)\n",
    "print ('overall RF accuracy is ' + str(overall_rf_acc))"
   ]
  },
  {
   "cell_type": "markdown",
   "metadata": {},
   "source": [
    "### GBDT for multi emotion classification"
   ]
  },
  {
   "cell_type": "code",
   "execution_count": 24,
   "metadata": {},
   "outputs": [
    {
     "name": "stdout",
     "output_type": "stream",
     "text": [
      "Fitting 5 folds for each of 180 candidates, totalling 900 fits\n"
     ]
    },
    {
     "name": "stderr",
     "output_type": "stream",
     "text": [
      "[Parallel(n_jobs=1)]: Done 900 out of 900 | elapsed: 32.2min finished\n"
     ]
    },
    {
     "data": {
      "text/plain": [
       "({'learning_rate': 0.001,\n",
       "  'max_depth': 15,\n",
       "  'max_features': 10,\n",
       "  'n_estimators': 500},\n",
       " 0.8472440944881889)"
      ]
     },
     "execution_count": 24,
     "metadata": {},
     "output_type": "execute_result"
    }
   ],
   "source": [
    "from sklearn.ensemble import GradientBoostingClassifier\n",
    "y_train_simple, y_test_simple = y_train[:,0], y_test[:,0]\n",
    "x_train_0 = x_train[np.where(y_train_simple==0)]\n",
    "y_train_compund_0 = y_train[:,1][np.where(y_train_simple==0)]\n",
    "\n",
    "gbdt_param_grid = {'learning_rate':[0.001,0.01,0.1],\n",
    "                   'n_estimators':[20,50,100,200,500],\n",
    "                   'max_depth':[5,10,15,20],\n",
    "                   'max_features':np.arange(5,20,5),\n",
    "                   }\n",
    "\n",
    "gbdt_clf_compund_0 = GradientBoostingClassifier(**gbdt_param_grid)\n",
    "\n",
    "gbdt_grid = GridSearchCV(gbdt_clf_compund_0,\n",
    "                    param_grid=gbdt_param_grid,\n",
    "                    cv=5,\n",
    "                    verbose=1,\n",
    "                    scoring='accuracy')\n",
    "\n",
    "gbdt_grid.fit(x_train_0, y_train_compund_0)\n",
    "gbdt_grid.best_params_, gbdt_grid.best_score_"
   ]
  },
  {
   "cell_type": "code",
   "execution_count": 27,
   "metadata": {},
   "outputs": [
    {
     "data": {
      "text/plain": [
       "0.8187134502923976"
      ]
     },
     "execution_count": 27,
     "metadata": {},
     "output_type": "execute_result"
    }
   ],
   "source": [
    "x_test_0 = x_test[np.where(y_test_simple==0)]\n",
    "y_test_compund_0 = y_test[:,1][np.where(y_test_simple==0)]\n",
    "\n",
    "gbdt_best_compound_0 = GradientBoostingClassifier(**gbdt_grid.best_params_)\n",
    "gbdt_best_compound_0.fit(x_train_0, y_train_compund_0)\n",
    "score_gbdt_compound_0 = gbdt_best_compound_0.score(x_test_0, y_test_compund_0)\n",
    "score_gbdt_compound_0"
   ]
  },
  {
   "cell_type": "code",
   "execution_count": 30,
   "metadata": {},
   "outputs": [
    {
     "name": "stdout",
     "output_type": "stream",
     "text": [
      "Fitting 5 folds for each of 144 candidates, totalling 720 fits\n"
     ]
    },
    {
     "name": "stderr",
     "output_type": "stream",
     "text": [
      "[Parallel(n_jobs=1)]: Done 720 out of 720 | elapsed: 62.4min finished\n"
     ]
    },
    {
     "data": {
      "text/plain": [
       "({'learning_rate': 0.1,\n",
       "  'max_depth': 5,\n",
       "  'max_features': 15,\n",
       "  'n_estimators': 200},\n",
       " 0.5802197802197803)"
      ]
     },
     "execution_count": 30,
     "metadata": {},
     "output_type": "execute_result"
    }
   ],
   "source": [
    "y_train_simple, y_test_simple = y_train[:,0], y_test[:,0]\n",
    "x_train_1 = x_train[np.where(y_train_simple==1)]\n",
    "y_train_compund_1 = y_train[:,1][np.where(y_train_simple==1)]\n",
    "\n",
    "gbdt_param_grid_1 = {'learning_rate':[0.001,0.01,0.1],\n",
    "                   'n_estimators':[20,50,100,200],\n",
    "                   'max_depth':[5,10,15,20],\n",
    "                   'max_features':np.arange(5,20,5),\n",
    "                   }\n",
    "\n",
    "gbdt_clf_compund_1 = GradientBoostingClassifier(**gbdt_param_grid_1)\n",
    "\n",
    "gbdt_grid_1 = GridSearchCV(gbdt_clf_compund_1,\n",
    "                    param_grid=gbdt_param_grid_1,\n",
    "                    cv=5,\n",
    "                    verbose=1,\n",
    "                    scoring='accuracy')\n",
    "\n",
    "gbdt_grid_1.fit(x_train_1, y_train_compund_1)\n",
    "gbdt_grid_1.best_params_, gbdt_grid_1.best_score_"
   ]
  },
  {
   "cell_type": "code",
   "execution_count": 48,
   "metadata": {},
   "outputs": [
    {
     "data": {
      "text/plain": [
       "0.5562310030395137"
      ]
     },
     "execution_count": 48,
     "metadata": {},
     "output_type": "execute_result"
    }
   ],
   "source": [
    "x_test_1 = x_test[np.where(y_test_simple==1)]\n",
    "y_test_compund_1 = y_test[:,1][np.where(y_test_simple==1)]\n",
    "\n",
    "gbdt_best_compound_1 = GradientBoostingClassifier(**gbdt_grid_1.best_params_)\n",
    "gbdt_best_compound_1.fit(x_train_1, y_train_compund_1)\n",
    "score_gbdt_compound_1 = gbdt_best_compound_1.score(x_test_1, y_test_compund_1)\n",
    "score_gbdt_compound_1"
   ]
  },
  {
   "cell_type": "code",
   "execution_count": 49,
   "metadata": {},
   "outputs": [
    {
     "name": "stdout",
     "output_type": "stream",
     "text": [
      "overall GBDT accuracy is 0.646\n"
     ]
    }
   ],
   "source": [
    "overall_rf_acc = (len(y_test_compund_0)*score_gbdt_compound_0+len(y_test_compund_1)*score_gbdt_compound_1)/len(y_test)\n",
    "print ('overall GBDT accuracy is ' + str(overall_rf_acc))"
   ]
  },
  {
   "cell_type": "markdown",
   "metadata": {},
   "source": [
    "### Votingclassifier for multi emotion classification"
   ]
  },
  {
   "cell_type": "code",
   "execution_count": 55,
   "metadata": {},
   "outputs": [
    {
     "data": {
      "text/plain": [
       "0.8538011695906432"
      ]
     },
     "execution_count": 55,
     "metadata": {},
     "output_type": "execute_result"
    }
   ],
   "source": [
    "from sklearn.ensemble import VotingClassifier\n",
    "\n",
    "estimators=[('rf',rf_best_compound_0),('gbdt',gbdt_best_compound_0),('rf2',rf_best_compound_0)]\n",
    "ensemble = VotingClassifier(estimators, voting='soft')\n",
    "ensemble.fit(x_train_0, y_train_compund_0)\n",
    "score0 = ensemble.score(x_test_0, y_test_compund_0)\n",
    "score0"
   ]
  },
  {
   "cell_type": "code",
   "execution_count": 50,
   "metadata": {},
   "outputs": [
    {
     "data": {
      "text/plain": [
       "0.60790273556231"
      ]
     },
     "execution_count": 50,
     "metadata": {},
     "output_type": "execute_result"
    }
   ],
   "source": [
    "estimators=[('rf',rf_best_compound_0),('gbdt',gbdt_best_compound_0),('rf2',rf_best_compound_0)]\n",
    "ensemble = VotingClassifier(estimators, voting='soft')\n",
    "ensemble.fit(x_train_1, y_train_compund_1)\n",
    "score1 = ensemble.score(x_test_1, y_test_compund_1)\n",
    "score1"
   ]
  },
  {
   "cell_type": "code",
   "execution_count": 56,
   "metadata": {},
   "outputs": [
    {
     "name": "stdout",
     "output_type": "stream",
     "text": [
      "overall votingclassifier accuracy is 0.692\n"
     ]
    }
   ],
   "source": [
    "overall_rf_acc = (len(y_test_compund_0)*score0+len(y_test_compund_1)*score1)/len(y_test)\n",
    "print ('overall votingclassifier accuracy is ' + str(overall_rf_acc))"
   ]
  },
  {
   "cell_type": "code",
   "execution_count": null,
   "metadata": {},
   "outputs": [],
   "source": []
  }
 ],
 "metadata": {
  "kernelspec": {
   "display_name": "Python 3",
   "language": "python",
   "name": "python3"
  },
  "language_info": {
   "codemirror_mode": {
    "name": "ipython",
    "version": 3
   },
   "file_extension": ".py",
   "mimetype": "text/x-python",
   "name": "python",
   "nbconvert_exporter": "python",
   "pygments_lexer": "ipython3",
   "version": "3.6.4"
  }
 },
 "nbformat": 4,
 "nbformat_minor": 2
}
