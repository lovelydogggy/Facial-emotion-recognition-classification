{
 "cells": [
  {
   "cell_type": "code",
   "execution_count": 1,
   "metadata": {},
   "outputs": [],
   "source": [
    "import numpy as np\n",
    "import pandas as pd\n",
    "import matplotlib as plt\n",
    "import warnings\n",
    "\n",
    "warnings.filterwarnings('ignore')"
   ]
  },
  {
   "cell_type": "code",
   "execution_count": 2,
   "metadata": {},
   "outputs": [],
   "source": [
    "data = pd.read_csv('dense_data_type_and_emot.csv', header = None)\n",
    "y_label = np.array(data[[0,1]])\n",
    "data.drop(data.columns[[0,1]],axis=1,inplace=True)"
   ]
  },
  {
   "cell_type": "code",
   "execution_count": 3,
   "metadata": {},
   "outputs": [],
   "source": [
    "feature = []\n",
    "for item in list(data.columns):\n",
    "    name = 'feature' + str(int(item)-1)\n",
    "    feature.append(name)\n",
    "\n",
    "data.columns = feature"
   ]
  },
  {
   "cell_type": "code",
   "execution_count": 21,
   "metadata": {},
   "outputs": [
    {
     "name": "stdout",
     "output_type": "stream",
     "text": [
      "Fitting 3 folds for each of 81 candidates, totalling 243 fits\n"
     ]
    },
    {
     "name": "stderr",
     "output_type": "stream",
     "text": [
      "[Parallel(n_jobs=1)]: Done 243 out of 243 | elapsed: 11.6min finished\n"
     ]
    },
    {
     "data": {
      "text/plain": [
       "({'max_depth': 10,\n",
       "  'max_features': 40,\n",
       "  'min_samples_split': 2,\n",
       "  'n_estimators': 50},\n",
       " 0.65)"
      ]
     },
     "execution_count": 21,
     "metadata": {},
     "output_type": "execute_result"
    }
   ],
   "source": [
    "from sklearn.model_selection import cross_val_score\n",
    "from sklearn.grid_search import GridSearchCV\n",
    "from sklearn.ensemble import RandomForestClassifier\n",
    "\n",
    "rf_param_grid = {'n_estimators':[50,100,200],\n",
    "                 'max_depth':[5,10,15],\n",
    "                 'min_samples_split':np.arange(2,14,4),\n",
    "                 'max_features':np.arange(40,100,20),\n",
    "                 }\n",
    "\n",
    "rf_clf = RandomForestClassifier(**rf_param_grid)\n",
    "rf_grid = GridSearchCV(rf_clf,\n",
    "                    param_grid=rf_param_grid,\n",
    "                    cv=3,\n",
    "                    verbose=1,\n",
    "                    scoring='accuracy')\n",
    "\n",
    "rf_grid.fit(data, y_label[:,0])\n",
    "rf_grid.best_params_, rf_grid.best_score_"
   ]
  },
  {
   "cell_type": "code",
   "execution_count": 23,
   "metadata": {},
   "outputs": [
    {
     "name": "stdout",
     "output_type": "stream",
     "text": [
      "Fitting 3 folds for each of 144 candidates, totalling 432 fits\n"
     ]
    },
    {
     "name": "stderr",
     "output_type": "stream",
     "text": [
      "[Parallel(n_jobs=1)]: Done 432 out of 432 | elapsed: 20.0min finished\n"
     ]
    },
    {
     "data": {
      "text/plain": [
       "({'learning_rate': 0.01,\n",
       "  'max_depth': 5,\n",
       "  'max_features': 20,\n",
       "  'n_estimators': 50},\n",
       " 0.6768)"
      ]
     },
     "execution_count": 23,
     "metadata": {},
     "output_type": "execute_result"
    }
   ],
   "source": [
    "from sklearn.ensemble import GradientBoostingClassifier\n",
    "\n",
    "gbdt_param_grid = {'learning_rate':[0.01,0.1,0.5,1],\n",
    "                   'n_estimators':[50,100,200],\n",
    "                   'max_depth':[5,10,15],\n",
    "                   'max_features':np.arange(20,100,20),\n",
    "                   }\n",
    "\n",
    "gbdt_clf = GradientBoostingClassifier(**gbdt_param_grid)\n",
    "\n",
    "gbdt_grid = GridSearchCV(gbdt_clf,\n",
    "                    param_grid=gbdt_param_grid,\n",
    "                    cv=3,\n",
    "                    verbose=1,\n",
    "                    scoring='accuracy')\n",
    "\n",
    "gbdt_grid.fit(data, y_label[:,0])\n",
    "gbdt_grid.best_params_, gbdt_grid.best_score_"
   ]
  },
  {
   "cell_type": "code",
   "execution_count": 5,
   "metadata": {},
   "outputs": [
    {
     "name": "stdout",
     "output_type": "stream",
     "text": [
      "Fitting 3 folds for each of 144 candidates, totalling 432 fits\n"
     ]
    },
    {
     "name": "stderr",
     "output_type": "stream",
     "text": [
      "[Parallel(n_jobs=1)]: Done 432 out of 432 | elapsed: 272.9min finished\n"
     ]
    },
    {
     "data": {
      "text/plain": [
       "({'learning_rate': 0.5,\n",
       "  'max_depth': 5,\n",
       "  'max_features': 10,\n",
       "  'n_estimators': 200},\n",
       " 0.6496)"
      ]
     },
     "execution_count": 5,
     "metadata": {},
     "output_type": "execute_result"
    }
   ],
   "source": [
    "from sklearn.model_selection import cross_val_score\n",
    "from sklearn.grid_search import GridSearchCV\n",
    "import xgboost as xgb\n",
    "warnings.filterwarnings('ignore')\n",
    "\n",
    "xgb_param_grid = {\n",
    "                  'max_depth':[5,10,15],\n",
    "                  #'colsample_bytree': np.linspace(0.1, 0.9, 9),\n",
    "                  #'subsample': np.linspace(0.1, 0.9, 9),\n",
    "                  'learning_rate' : [0.01,0.1,0.5,1],\n",
    "                  'n_estimators':[20,50,100,200],\n",
    "                  'max_features':np.arange(10,70,20),\n",
    "                  }\n",
    "\n",
    "xgb_clf = xgb.XGBClassifier(**xgb_param_grid)\n",
    "\n",
    "xgb_grid = GridSearchCV(xgb_clf,\n",
    "                    param_grid=xgb_param_grid,\n",
    "                    cv=3,\n",
    "                    verbose=1,\n",
    "                    scoring='accuracy')\n",
    "\n",
    "xgb_grid.fit(data, y_label[:,0])\n",
    "xgb_grid.best_params_, xgb_grid.best_score_"
   ]
  },
  {
   "cell_type": "code",
   "execution_count": 6,
   "metadata": {},
   "outputs": [
    {
     "name": "stdout",
     "output_type": "stream",
     "text": [
      "Fitting 3 folds for each of 81 candidates, totalling 243 fits\n"
     ]
    },
    {
     "name": "stderr",
     "output_type": "stream",
     "text": [
      "[Parallel(n_jobs=1)]: Done 243 out of 243 | elapsed: 14.2min finished\n"
     ]
    },
    {
     "data": {
      "text/plain": [
       "({'max_depth': 15,\n",
       "  'max_features': 60,\n",
       "  'min_samples_split': 2,\n",
       "  'n_estimators': 200},\n",
       " 0.3768)"
      ]
     },
     "execution_count": 6,
     "metadata": {},
     "output_type": "execute_result"
    }
   ],
   "source": [
    "from sklearn.model_selection import cross_val_score\n",
    "from sklearn.grid_search import GridSearchCV\n",
    "from sklearn.ensemble import RandomForestClassifier\n",
    "\n",
    "rf_param_grid = {'n_estimators':[50,100,200],\n",
    "                 'max_depth':[5,10,15],\n",
    "                 'min_samples_split':np.arange(2,14,4),\n",
    "                 'max_features':np.arange(40,100,20),\n",
    "                 }\n",
    "\n",
    "rf_clf = RandomForestClassifier(**rf_param_grid)\n",
    "rf_grid = GridSearchCV(rf_clf,\n",
    "                    param_grid=rf_param_grid,\n",
    "                    cv=3,\n",
    "                    verbose=1,\n",
    "                    scoring='accuracy')\n",
    "\n",
    "rf_grid.fit(data, y_label[:,1])\n",
    "rf_grid.best_params_, rf_grid.best_score_"
   ]
  },
  {
   "cell_type": "code",
   "execution_count": 7,
   "metadata": {},
   "outputs": [
    {
     "name": "stdout",
     "output_type": "stream",
     "text": [
      "Fitting 3 folds for each of 144 candidates, totalling 432 fits\n"
     ]
    },
    {
     "name": "stderr",
     "output_type": "stream",
     "text": [
      "[Parallel(n_jobs=1)]: Done 432 out of 432 | elapsed: 171.1min finished\n"
     ]
    },
    {
     "data": {
      "text/plain": [
       "({'learning_rate': 0.1,\n",
       "  'max_depth': 5,\n",
       "  'max_features': 80,\n",
       "  'n_estimators': 200},\n",
       " 0.3688)"
      ]
     },
     "execution_count": 7,
     "metadata": {},
     "output_type": "execute_result"
    }
   ],
   "source": [
    "from sklearn.ensemble import GradientBoostingClassifier\n",
    "\n",
    "gbdt_param_grid = {'learning_rate':[0.01,0.1,0.5,1],\n",
    "                   'n_estimators':[50,100,200],\n",
    "                   'max_depth':[5,10,15],\n",
    "                   'max_features':np.arange(20,100,20),\n",
    "                   }\n",
    "\n",
    "gbdt_clf = GradientBoostingClassifier(**gbdt_param_grid)\n",
    "\n",
    "gbdt_grid = GridSearchCV(gbdt_clf,\n",
    "                    param_grid=gbdt_param_grid,\n",
    "                    cv=3,\n",
    "                    verbose=1,\n",
    "                    scoring='accuracy')\n",
    "\n",
    "gbdt_grid.fit(data, y_label[:,1])\n",
    "gbdt_grid.best_params_, gbdt_grid.best_score_"
   ]
  },
  {
   "cell_type": "code",
   "execution_count": null,
   "metadata": {},
   "outputs": [],
   "source": []
  }
 ],
 "metadata": {
  "kernelspec": {
   "display_name": "Python 3",
   "language": "python",
   "name": "python3"
  },
  "language_info": {
   "codemirror_mode": {
    "name": "ipython",
    "version": 3
   },
   "file_extension": ".py",
   "mimetype": "text/x-python",
   "name": "python",
   "nbconvert_exporter": "python",
   "pygments_lexer": "ipython3",
   "version": "3.6.4"
  }
 },
 "nbformat": 4,
 "nbformat_minor": 2
}
